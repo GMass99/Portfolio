{
 "cells": [
  {
   "cell_type": "markdown",
   "id": "2aba8197",
   "metadata": {},
   "source": [
    "Before you turn this problem in, make sure everything runs as expected. First, **restart the kernel** (in the menubar, select Kernel$\\rightarrow$Restart) and then **run all cells** (in the menubar, select Cell$\\rightarrow$Run All).\n",
    "\n",
    "Make sure you fill in any place that says `YOUR CODE HERE` or \"YOUR ANSWER HERE\", as well as your name and collaborators below:"
   ]
  },
  {
   "cell_type": "code",
   "execution_count": 1,
   "id": "a8f417e4",
   "metadata": {},
   "outputs": [],
   "source": [
    "NAME = \"George Massey\"\n",
    "STUDENTID = \"230973275\""
   ]
  },
  {
   "cell_type": "markdown",
   "id": "0dd64fb9",
   "metadata": {},
   "source": [
    "---"
   ]
  },
  {
   "cell_type": "markdown",
   "id": "5367f9ce",
   "metadata": {
    "deletable": false,
    "editable": false,
    "nbgrader": {
     "cell_type": "markdown",
     "checksum": "5e51252ff7b3be970ac91b3c61426442",
     "grade": false,
     "grade_id": "cell-125b2f808476ac23",
     "locked": true,
     "schema_version": 3,
     "solution": false,
     "task": false
    }
   },
   "source": [
    "# MTH765P - Coursework 3\n",
    "This is a template notebook for the third coursework assignment for MTH765P,\n",
    "Closely follow the instructions in this template in order \n",
    "to complete the assessment and to obtain full marks. Please only\n",
    "modify cells where you are instructed to do so. Note that you may add other cells.\n",
    "Failure to comply may result in unexpected errors that can lead to mark deductions. **Please submit only this file, without changing its name to QMPlus.**\n",
    "\n",
    "\n",
    "##### DO NOT FORGET TO REMOVE THE LINE  _raise NotImplementedError()_ after you answer the question.\n",
    "\n",
    "Author: Primoz Skraba\n",
    "\n",
    "\n",
    "As usual, we begin by loading the necessary libraries. You should not \n",
    "import any other libraries."
   ]
  },
  {
   "cell_type": "code",
   "execution_count": 2,
   "id": "512d5082",
   "metadata": {
    "deletable": false,
    "editable": false,
    "nbgrader": {
     "cell_type": "code",
     "checksum": "0ea08a79a14e0bced16f1bc30ae6da47",
     "grade": false,
     "grade_id": "cell-80475a4d32a8b7f6",
     "locked": true,
     "schema_version": 3,
     "solution": false,
     "task": false
    }
   },
   "outputs": [],
   "source": [
    "import pandas as pd\n",
    "import numpy as np\n",
    "import matplotlib.pyplot as plt"
   ]
  },
  {
   "cell_type": "markdown",
   "id": "cbf1a479",
   "metadata": {
    "deletable": false,
    "editable": false,
    "nbgrader": {
     "cell_type": "markdown",
     "checksum": "fe03ac7497e49cd8324d1c9acf473014",
     "grade": false,
     "grade_id": "cell-36e272d2750a54d5",
     "locked": true,
     "schema_version": 3,
     "solution": false,
     "task": false
    }
   },
   "source": [
    "### Question 1\n",
    "---------\n",
    "---------\n",
    " \n",
    "Linear models and residuals\n",
    "\n",
    "--------\n",
    "--------\n",
    "\n",
    "Run the next cell to load the first dataset.\n",
    "\n",
    "--------\n",
    "\n",
    "\n"
   ]
  },
  {
   "cell_type": "code",
   "execution_count": 3,
   "id": "ccbe9be8",
   "metadata": {
    "deletable": false,
    "editable": false,
    "nbgrader": {
     "cell_type": "code",
     "checksum": "29ccd0f4a002aa597b5257dcfb0f9dd9",
     "grade": false,
     "grade_id": "cell-e35ad477aa18ce29",
     "locked": true,
     "schema_version": 3,
     "solution": false,
     "task": false
    }
   },
   "outputs": [
    {
     "data": {
      "text/html": [
       "<div>\n",
       "<style scoped>\n",
       "    .dataframe tbody tr th:only-of-type {\n",
       "        vertical-align: middle;\n",
       "    }\n",
       "\n",
       "    .dataframe tbody tr th {\n",
       "        vertical-align: top;\n",
       "    }\n",
       "\n",
       "    .dataframe thead th {\n",
       "        text-align: right;\n",
       "    }\n",
       "</style>\n",
       "<table border=\"1\" class=\"dataframe\">\n",
       "  <thead>\n",
       "    <tr style=\"text-align: right;\">\n",
       "      <th></th>\n",
       "      <th>x</th>\n",
       "      <th>y</th>\n",
       "    </tr>\n",
       "  </thead>\n",
       "  <tbody>\n",
       "    <tr>\n",
       "      <th>0</th>\n",
       "      <td>-1.167390</td>\n",
       "      <td>-40.099714</td>\n",
       "    </tr>\n",
       "    <tr>\n",
       "      <th>1</th>\n",
       "      <td>-1.082710</td>\n",
       "      <td>-19.151187</td>\n",
       "    </tr>\n",
       "    <tr>\n",
       "      <th>2</th>\n",
       "      <td>-1.063447</td>\n",
       "      <td>-16.397238</td>\n",
       "    </tr>\n",
       "    <tr>\n",
       "      <th>3</th>\n",
       "      <td>-1.061148</td>\n",
       "      <td>-11.336125</td>\n",
       "    </tr>\n",
       "    <tr>\n",
       "      <th>4</th>\n",
       "      <td>-0.993360</td>\n",
       "      <td>-19.188918</td>\n",
       "    </tr>\n",
       "  </tbody>\n",
       "</table>\n",
       "</div>"
      ],
      "text/plain": [
       "          x          y\n",
       "0 -1.167390 -40.099714\n",
       "1 -1.082710 -19.151187\n",
       "2 -1.063447 -16.397238\n",
       "3 -1.061148 -11.336125\n",
       "4 -0.993360 -19.188918"
      ]
     },
     "execution_count": 3,
     "metadata": {},
     "output_type": "execute_result"
    }
   ],
   "source": [
    "X = pd.read_csv('data.csv',sep=' ')\n",
    "X.head()"
   ]
  },
  {
   "cell_type": "markdown",
   "id": "f23f8926",
   "metadata": {
    "deletable": false,
    "editable": false,
    "nbgrader": {
     "cell_type": "markdown",
     "checksum": "0ae67588e35f13253924667bbc2b8993",
     "grade": false,
     "grade_id": "cell-a02f9d790a1e06e5",
     "locked": true,
     "schema_version": 3,
     "solution": false,
     "task": false
    }
   },
   "source": [
    "----\n",
    "\n",
    "a.) **(2 points)** Use _numpy.polyfit()_ to fit a linear model to the data, storing the parameters into variables called _m_ and _b_ respectively for the slope and y-intercept. \n",
    "\n",
    "----"
   ]
  },
  {
   "cell_type": "code",
   "execution_count": 4,
   "id": "e8e87a79",
   "metadata": {
    "deletable": false,
    "nbgrader": {
     "cell_type": "code",
     "checksum": "440108b12843f99eb90a27c52acdacad",
     "grade": false,
     "grade_id": "cell-5d0385e8424d056d",
     "locked": false,
     "schema_version": 3,
     "solution": true,
     "task": false
    }
   },
   "outputs": [],
   "source": [
    "[m,b] = np.polyfit(X['x'],X['y'],1)"
   ]
  },
  {
   "cell_type": "code",
   "execution_count": null,
   "id": "44f5ae9a",
   "metadata": {
    "deletable": false,
    "editable": false,
    "nbgrader": {
     "cell_type": "code",
     "checksum": "eb8bda763904854f52b23ba99272e4ea",
     "grade": true,
     "grade_id": "cell-a510ebfd6eb31117",
     "locked": true,
     "points": 2,
     "schema_version": 3,
     "solution": false,
     "task": false
    }
   },
   "outputs": [],
   "source": []
  },
  {
   "cell_type": "markdown",
   "id": "e4a7baf8",
   "metadata": {
    "deletable": false,
    "editable": false,
    "nbgrader": {
     "cell_type": "markdown",
     "checksum": "248235a8652d44d65e2082e9baf1aafe",
     "grade": false,
     "grade_id": "cell-4637557f72240df6",
     "locked": true,
     "schema_version": 3,
     "solution": false,
     "task": false
    }
   },
   "source": [
    "----\n",
    "\n",
    "b.) **(5 points)** Compute the residual of the data with respect to the model and store them in a variable called _res_\n",
    "\n",
    "----"
   ]
  },
  {
   "cell_type": "code",
   "execution_count": 5,
   "id": "0b2ade41",
   "metadata": {
    "deletable": false,
    "nbgrader": {
     "cell_type": "code",
     "checksum": "bb493beea81b90457c0161b8290a960d",
     "grade": false,
     "grade_id": "cell-bdd25af32a94f5d4",
     "locked": false,
     "schema_version": 3,
     "solution": true,
     "task": false
    }
   },
   "outputs": [],
   "source": [
    "res = X['y'] - (m*X['x']+b)"
   ]
  },
  {
   "cell_type": "code",
   "execution_count": null,
   "id": "179aee4c",
   "metadata": {
    "deletable": false,
    "editable": false,
    "nbgrader": {
     "cell_type": "code",
     "checksum": "f8a47d9e0ae09e06428186ce519c2033",
     "grade": true,
     "grade_id": "cell-49f5c19f12e0e32d",
     "locked": true,
     "points": 5,
     "schema_version": 3,
     "solution": false,
     "task": false
    }
   },
   "outputs": [],
   "source": []
  },
  {
   "cell_type": "markdown",
   "id": "44596de5",
   "metadata": {
    "deletable": false,
    "editable": false,
    "nbgrader": {
     "cell_type": "markdown",
     "checksum": "fcc4230b8447a590f1d0434b7a332a55",
     "grade": false,
     "grade_id": "cell-f1bed8e2f93abf15",
     "locked": true,
     "schema_version": 3,
     "solution": false,
     "task": false
    }
   },
   "source": [
    "----\n",
    "\n",
    "c.) **(4 points)** Plot an unnormalised histogram of the residuals with 30 bins\n",
    "\n",
    "----"
   ]
  },
  {
   "cell_type": "code",
   "execution_count": 6,
   "id": "141c1a8c",
   "metadata": {
    "deletable": false,
    "nbgrader": {
     "cell_type": "code",
     "checksum": "2ff10866e625d5c4eea281c17bfd2ce7",
     "grade": true,
     "grade_id": "cell-87c23e242654c4c9",
     "locked": false,
     "points": 4,
     "schema_version": 3,
     "solution": true,
     "task": false
    }
   },
   "outputs": [
    {
     "data": {
      "image/png": "[encoded data removed]",
      "text/plain": [
       "<Figure size 640x480 with 1 Axes>"
      ]
     },
     "metadata": {},
     "output_type": "display_data"
    }
   ],
   "source": [
    "plt.hist(res, bins = 30);\n",
    "plt.xlabel('residual')\n",
    "plt.ylabel('no of points')\n",
    "plt.title('Histogram of The Residuals with 30 bins');"
   ]
  },
  {
   "cell_type": "markdown",
   "id": "94496680",
   "metadata": {
    "deletable": false,
    "editable": false,
    "nbgrader": {
     "cell_type": "markdown",
     "checksum": "5359624e8c9f50806ddbecc25c1e8b33",
     "grade": false,
     "grade_id": "cell-c04efdd669ff991e",
     "locked": true,
     "schema_version": 3,
     "solution": false,
     "task": false
    }
   },
   "source": [
    "----\n",
    "\n",
    "d.) **(4 points)** Is the linear model a good fit? (one or two sentences)\n",
    "\n",
    "----"
   ]
  },
  {
   "cell_type": "markdown",
   "id": "e6d9cbd7",
   "metadata": {
    "deletable": false,
    "nbgrader": {
     "cell_type": "markdown",
     "checksum": "01d0999dbfd9ed7e366384c396676273",
     "grade": true,
     "grade_id": "cell-042efc41467b5bb0",
     "locked": false,
     "points": 4,
     "schema_version": 3,
     "solution": true,
     "task": false
    }
   },
   "source": [
    "It looks as though it is a good fit because most of the residuals fall around 0, meaning that the error is small. The histogram forms a normal like distribution, with a mean of 0 and few residuals being further than 10 either side of 0."
   ]
  },
  {
   "cell_type": "markdown",
   "id": "894ffeb0",
   "metadata": {
    "deletable": false,
    "editable": false,
    "nbgrader": {
     "cell_type": "markdown",
     "checksum": "05a1390fcebc1e2f6c42f0c3810d2191",
     "grade": false,
     "grade_id": "cell-34745a4e5d2edefd",
     "locked": true,
     "schema_version": 3,
     "solution": false,
     "task": false
    }
   },
   "source": [
    "----\n",
    "\n",
    "e.) **(8 points)** Complete the function below to compute hinges of the input x, which should be set at the 30th and 70th quantile.\n",
    "\n",
    "----"
   ]
  },
  {
   "cell_type": "code",
   "execution_count": 7,
   "id": "eccc8785",
   "metadata": {
    "deletable": false,
    "nbgrader": {
     "cell_type": "code",
     "checksum": "77cb03e2a804e66344d2cc0b669e0604",
     "grade": false,
     "grade_id": "cell-9a6a0df2fe278068",
     "locked": false,
     "schema_version": 3,
     "solution": true,
     "task": false
    }
   },
   "outputs": [],
   "source": [
    "def hinges(x):\n",
    "    lower = np.quantile(x,0.30)\n",
    "    upper = np.quantile(x,0.70)\n",
    "    return lower,upper"
   ]
  },
  {
   "cell_type": "code",
   "execution_count": null,
   "id": "ff21674b",
   "metadata": {
    "deletable": false,
    "editable": false,
    "nbgrader": {
     "cell_type": "code",
     "checksum": "f200be8e50b6f989300a07ec49c8c2ca",
     "grade": true,
     "grade_id": "cell-b0cfceae9fee3684",
     "locked": true,
     "points": 8,
     "schema_version": 3,
     "solution": false,
     "task": false
    }
   },
   "outputs": [],
   "source": []
  },
  {
   "cell_type": "markdown",
   "id": "892890b2",
   "metadata": {
    "deletable": false,
    "editable": false,
    "nbgrader": {
     "cell_type": "markdown",
     "checksum": "fd9997c97bebb161877f75ad5d9f48bb",
     "grade": false,
     "grade_id": "cell-45a212ec3ffa89ed",
     "locked": true,
     "schema_version": 3,
     "solution": false,
     "task": false
    }
   },
   "source": [
    "----\n",
    "\n",
    "f.) **(2 points)** Use the above function to compute the inner fences of the residuals. Store the results in the variables _lower_fence_ and _upper_fence_ respectively.\n",
    "\n",
    "----"
   ]
  },
  {
   "cell_type": "code",
   "execution_count": 8,
   "id": "6b7f3103",
   "metadata": {
    "deletable": false,
    "nbgrader": {
     "cell_type": "code",
     "checksum": "cc5476e1e5653435c8908eed1cc4fc4e",
     "grade": false,
     "grade_id": "cell-0c9813f56d0b5880",
     "locked": false,
     "schema_version": 3,
     "solution": true,
     "task": false
    }
   },
   "outputs": [
    {
     "name": "stdout",
     "output_type": "stream",
     "text": [
      "-10.33084450852618\n",
      "12.01983758563062\n"
     ]
    }
   ],
   "source": [
    "hinges = hinges(res)\n",
    "step = hinges[1] - hinges[0]\n",
    "lower_fence = hinges[0] - step*1.5\n",
    "upper_fence = hinges[1] + step*1.5\n",
    "print(lower_fence)\n",
    "print(upper_fence)"
   ]
  },
  {
   "cell_type": "code",
   "execution_count": null,
   "id": "dea07d33",
   "metadata": {
    "deletable": false,
    "editable": false,
    "nbgrader": {
     "cell_type": "code",
     "checksum": "44f2e97d093034598009c082a13c2f2d",
     "grade": true,
     "grade_id": "cell-02e6a1b75db70ab7",
     "locked": true,
     "points": 2,
     "schema_version": 3,
     "solution": false,
     "task": false
    }
   },
   "outputs": [],
   "source": []
  },
  {
   "cell_type": "markdown",
   "id": "8ada1415",
   "metadata": {
    "deletable": false,
    "editable": false,
    "nbgrader": {
     "cell_type": "markdown",
     "checksum": "fa7e3984116f85eac1609072b04329f1",
     "grade": false,
     "grade_id": "cell-ab135b5db7d34a72",
     "locked": true,
     "schema_version": 3,
     "solution": false,
     "task": false
    }
   },
   "source": [
    "----\n",
    "\n",
    "g.) **(3 points)** Create a new Dataframe called _Y_ with all the values corresponding to residuals which are beyond the inner fences removed.\n",
    "\n",
    "----"
   ]
  },
  {
   "cell_type": "code",
   "execution_count": 9,
   "id": "3adf9d84",
   "metadata": {
    "deletable": false,
    "nbgrader": {
     "cell_type": "code",
     "checksum": "5d32ce4bc254f7b7908a047006dd7bb2",
     "grade": false,
     "grade_id": "cell-9df6b079e5d05ed9",
     "locked": false,
     "schema_version": 3,
     "solution": true,
     "task": false
    }
   },
   "outputs": [],
   "source": [
    "Y = pd.DataFrame(X)\n",
    "Y = Y[res.apply(lambda x: True if x >= lower_fence and x <= upper_fence else False)]"
   ]
  },
  {
   "cell_type": "code",
   "execution_count": 10,
   "id": "6c249563",
   "metadata": {
    "deletable": false,
    "editable": false,
    "nbgrader": {
     "cell_type": "code",
     "checksum": "bcaeb19b3cfffd8d0a0732a136dd1fe0",
     "grade": false,
     "grade_id": "cell-5587eaeba70f827e",
     "locked": true,
     "schema_version": 3,
     "solution": false,
     "task": false
    }
   },
   "outputs": [
    {
     "data": {
      "text/html": [
       "<div>\n",
       "<style scoped>\n",
       "    .dataframe tbody tr th:only-of-type {\n",
       "        vertical-align: middle;\n",
       "    }\n",
       "\n",
       "    .dataframe tbody tr th {\n",
       "        vertical-align: top;\n",
       "    }\n",
       "\n",
       "    .dataframe thead th {\n",
       "        text-align: right;\n",
       "    }\n",
       "</style>\n",
       "<table border=\"1\" class=\"dataframe\">\n",
       "  <thead>\n",
       "    <tr style=\"text-align: right;\">\n",
       "      <th></th>\n",
       "      <th>x</th>\n",
       "      <th>y</th>\n",
       "    </tr>\n",
       "  </thead>\n",
       "  <tbody>\n",
       "    <tr>\n",
       "      <th>1</th>\n",
       "      <td>-1.082710</td>\n",
       "      <td>-19.151187</td>\n",
       "    </tr>\n",
       "    <tr>\n",
       "      <th>2</th>\n",
       "      <td>-1.063447</td>\n",
       "      <td>-16.397238</td>\n",
       "    </tr>\n",
       "    <tr>\n",
       "      <th>3</th>\n",
       "      <td>-1.061148</td>\n",
       "      <td>-11.336125</td>\n",
       "    </tr>\n",
       "    <tr>\n",
       "      <th>4</th>\n",
       "      <td>-0.993360</td>\n",
       "      <td>-19.188918</td>\n",
       "    </tr>\n",
       "    <tr>\n",
       "      <th>5</th>\n",
       "      <td>-0.990390</td>\n",
       "      <td>-17.154749</td>\n",
       "    </tr>\n",
       "    <tr>\n",
       "      <th>...</th>\n",
       "      <td>...</td>\n",
       "      <td>...</td>\n",
       "    </tr>\n",
       "    <tr>\n",
       "      <th>293</th>\n",
       "      <td>0.993728</td>\n",
       "      <td>1.399987</td>\n",
       "    </tr>\n",
       "    <tr>\n",
       "      <th>294</th>\n",
       "      <td>0.999342</td>\n",
       "      <td>-6.721107</td>\n",
       "    </tr>\n",
       "    <tr>\n",
       "      <th>297</th>\n",
       "      <td>1.038887</td>\n",
       "      <td>-0.327475</td>\n",
       "    </tr>\n",
       "    <tr>\n",
       "      <th>298</th>\n",
       "      <td>1.081022</td>\n",
       "      <td>9.416868</td>\n",
       "    </tr>\n",
       "    <tr>\n",
       "      <th>299</th>\n",
       "      <td>1.099560</td>\n",
       "      <td>-5.737344</td>\n",
       "    </tr>\n",
       "  </tbody>\n",
       "</table>\n",
       "<p>270 rows × 2 columns</p>\n",
       "</div>"
      ],
      "text/plain": [
       "            x          y\n",
       "1   -1.082710 -19.151187\n",
       "2   -1.063447 -16.397238\n",
       "3   -1.061148 -11.336125\n",
       "4   -0.993360 -19.188918\n",
       "5   -0.990390 -17.154749\n",
       "..        ...        ...\n",
       "293  0.993728   1.399987\n",
       "294  0.999342  -6.721107\n",
       "297  1.038887  -0.327475\n",
       "298  1.081022   9.416868\n",
       "299  1.099560  -5.737344\n",
       "\n",
       "[270 rows x 2 columns]"
      ]
     },
     "metadata": {},
     "output_type": "display_data"
    }
   ],
   "source": [
    "## Leave this cell it prints out the resulting dataframe\n",
    "display(Y)"
   ]
  },
  {
   "cell_type": "code",
   "execution_count": null,
   "id": "3be71450",
   "metadata": {
    "deletable": false,
    "editable": false,
    "nbgrader": {
     "cell_type": "code",
     "checksum": "84f35b50fe93a808cbff8455f473be67",
     "grade": true,
     "grade_id": "cell-915dde633ddedd13",
     "locked": true,
     "points": 3,
     "schema_version": 3,
     "solution": false,
     "task": false
    }
   },
   "outputs": [],
   "source": []
  },
  {
   "cell_type": "markdown",
   "id": "27b9774b",
   "metadata": {
    "deletable": false,
    "editable": false,
    "nbgrader": {
     "cell_type": "markdown",
     "checksum": "a1834ee5d5da2334bef9491bf2eede1e",
     "grade": false,
     "grade_id": "cell-6a49739aee69c15b",
     "locked": true,
     "schema_version": 3,
     "solution": false,
     "task": false
    }
   },
   "source": [
    "----\n",
    "\n",
    "h.) **(3 points)** Fit a new linear model and plot the  outliers as red points, the remainder of the points (non-outliers) as blue stars (\\*), the original model as a black line and the new model shown as a green line. Store the new model parameters in the variables _m\\_new_ and _b\\_new_.\n",
    "\n",
    "----"
   ]
  },
  {
   "cell_type": "code",
   "execution_count": 11,
   "id": "319bb134",
   "metadata": {
    "deletable": false,
    "nbgrader": {
     "cell_type": "code",
     "checksum": "01684d047c9d60aec54f81965ac27f76",
     "grade": true,
     "grade_id": "cell-5f22fe29f2335091",
     "locked": false,
     "points": 3,
     "schema_version": 3,
     "solution": true,
     "task": false
    }
   },
   "outputs": [
    {
     "data": {
      "image/png": "[encoded data removed]",
      "text/plain": [
       "<Figure size 800x600 with 1 Axes>"
      ]
     },
     "metadata": {},
     "output_type": "display_data"
    }
   ],
   "source": [
    "[m_new, b_new] = np.polyfit(Y['x'],Y['y'],1)\n",
    "\n",
    "outliers = pd.DataFrame(X)\n",
    "outliers = outliers[res.apply(lambda x: True if x < lower_fence or x > upper_fence else False)]\n",
    "\n",
    "plt.figure(figsize = (8,6))\n",
    "plt.scatter(outliers['x'], outliers['y'], c = 'r', label = 'outliers')\n",
    "plt.scatter(Y['x'], Y['y'], c = 'b', marker = '*', label = 'non-outliers')\n",
    "plt.plot(X['x'], m*X['x']+b, c = 'black', label = 'original model');\n",
    "plt.plot(X['x'], m_new*X['x']+b_new, c = 'green', label = 'new model'); \n",
    "plt.xlabel('x')\n",
    "plt.ylabel('y')\n",
    "plt.title('Orginal Model vs New Model (ignoring outliers)')\n",
    "plt.legend(loc = 'upper left', bbox_to_anchor = (1,1));"
   ]
  },
  {
   "cell_type": "markdown",
   "id": "8f14734b",
   "metadata": {
    "deletable": false,
    "editable": false,
    "nbgrader": {
     "cell_type": "markdown",
     "checksum": "78b5abadbd744811a499eec1088bf51e",
     "grade": false,
     "grade_id": "cell-0ac06d00a2d4e370",
     "locked": true,
     "schema_version": 3,
     "solution": false,
     "task": false
    }
   },
   "source": [
    "----\n",
    "\n",
    "i.) **(4 points)** Is what you did above different from computing (and filtering) the outliers on the original data? If so, describe how, otherwise explain why they are the same. (a few sentences)\n",
    "\n",
    "----"
   ]
  },
  {
   "cell_type": "markdown",
   "id": "63155e5d",
   "metadata": {
    "deletable": false,
    "nbgrader": {
     "cell_type": "markdown",
     "checksum": "058a4942ca765ea3e3a178a47ff50790",
     "grade": true,
     "grade_id": "cell-b16cf6f03074fa73",
     "locked": false,
     "points": 4,
     "schema_version": 3,
     "solution": true,
     "task": false
    }
   },
   "source": [
    "Yes, what we did was different. This is becuase we computed a model based on the orginal data and then removed outliers through working out lower and upper fences on the residual error. Where as the other method would be to first, before computing a model, find the lower and upper fences on the orginal data and removing outliers that way. These two ways would then lead to different points being classified as outliers and we would end up with a different model."
   ]
  },
  {
   "cell_type": "markdown",
   "id": "a828a5b7",
   "metadata": {
    "deletable": false,
    "editable": false,
    "nbgrader": {
     "cell_type": "markdown",
     "checksum": "90343a7b8d7118b8347eba9526587882",
     "grade": false,
     "grade_id": "cell-7c41d349c1de066d",
     "locked": true,
     "schema_version": 3,
     "solution": false,
     "task": false
    }
   },
   "source": [
    "### Question  2\n",
    "\n",
    "The next dataset is on the sales of video games. \n",
    "\n",
    "---------\n",
    "---------\n",
    "\n",
    "Use pandas to read in the file **vgsales.csv** into a dataframe called _games_\n",
    "\n"
   ]
  },
  {
   "cell_type": "code",
   "execution_count": 12,
   "id": "9497311d",
   "metadata": {
    "deletable": false,
    "editable": false,
    "nbgrader": {
     "cell_type": "code",
     "checksum": "2bacb82c88e41291393cb43a1310e3f0",
     "grade": false,
     "grade_id": "cell-ef8aa8eb7eb5367b",
     "locked": true,
     "schema_version": 3,
     "solution": false,
     "task": false
    }
   },
   "outputs": [
    {
     "data": {
      "text/html": [
       "<div>\n",
       "<style scoped>\n",
       "    .dataframe tbody tr th:only-of-type {\n",
       "        vertical-align: middle;\n",
       "    }\n",
       "\n",
       "    .dataframe tbody tr th {\n",
       "        vertical-align: top;\n",
       "    }\n",
       "\n",
       "    .dataframe thead th {\n",
       "        text-align: right;\n",
       "    }\n",
       "</style>\n",
       "<table border=\"1\" class=\"dataframe\">\n",
       "  <thead>\n",
       "    <tr style=\"text-align: right;\">\n",
       "      <th></th>\n",
       "      <th>Rank</th>\n",
       "      <th>Name</th>\n",
       "      <th>Platform</th>\n",
       "      <th>Year</th>\n",
       "      <th>Genre</th>\n",
       "      <th>Publisher</th>\n",
       "      <th>NA_Sales</th>\n",
       "      <th>EU_Sales</th>\n",
       "      <th>JP_Sales</th>\n",
       "      <th>Other_Sales</th>\n",
       "      <th>Global_Sales</th>\n",
       "    </tr>\n",
       "  </thead>\n",
       "  <tbody>\n",
       "    <tr>\n",
       "      <th>0</th>\n",
       "      <td>1</td>\n",
       "      <td>Wii Sports</td>\n",
       "      <td>Wii</td>\n",
       "      <td>2006.0</td>\n",
       "      <td>Sports</td>\n",
       "      <td>Nintendo</td>\n",
       "      <td>41.49</td>\n",
       "      <td>29.02</td>\n",
       "      <td>3.77</td>\n",
       "      <td>8.46</td>\n",
       "      <td>82.74</td>\n",
       "    </tr>\n",
       "    <tr>\n",
       "      <th>1</th>\n",
       "      <td>2</td>\n",
       "      <td>Super Mario Bros.</td>\n",
       "      <td>NES</td>\n",
       "      <td>1985.0</td>\n",
       "      <td>Platform</td>\n",
       "      <td>Nintendo</td>\n",
       "      <td>29.08</td>\n",
       "      <td>3.58</td>\n",
       "      <td>6.81</td>\n",
       "      <td>0.77</td>\n",
       "      <td>40.24</td>\n",
       "    </tr>\n",
       "    <tr>\n",
       "      <th>2</th>\n",
       "      <td>3</td>\n",
       "      <td>Mario Kart Wii</td>\n",
       "      <td>Wii</td>\n",
       "      <td>2008.0</td>\n",
       "      <td>Racing</td>\n",
       "      <td>Nintendo</td>\n",
       "      <td>15.85</td>\n",
       "      <td>12.88</td>\n",
       "      <td>3.79</td>\n",
       "      <td>3.31</td>\n",
       "      <td>35.82</td>\n",
       "    </tr>\n",
       "    <tr>\n",
       "      <th>3</th>\n",
       "      <td>4</td>\n",
       "      <td>Wii Sports Resort</td>\n",
       "      <td>Wii</td>\n",
       "      <td>2009.0</td>\n",
       "      <td>Sports</td>\n",
       "      <td>Nintendo</td>\n",
       "      <td>15.75</td>\n",
       "      <td>11.01</td>\n",
       "      <td>3.28</td>\n",
       "      <td>2.96</td>\n",
       "      <td>33.00</td>\n",
       "    </tr>\n",
       "    <tr>\n",
       "      <th>4</th>\n",
       "      <td>5</td>\n",
       "      <td>Pokemon Red/Pokemon Blue</td>\n",
       "      <td>GB</td>\n",
       "      <td>1996.0</td>\n",
       "      <td>Role-Playing</td>\n",
       "      <td>Nintendo</td>\n",
       "      <td>11.27</td>\n",
       "      <td>8.89</td>\n",
       "      <td>10.22</td>\n",
       "      <td>1.00</td>\n",
       "      <td>31.37</td>\n",
       "    </tr>\n",
       "  </tbody>\n",
       "</table>\n",
       "</div>"
      ],
      "text/plain": [
       "   Rank                      Name Platform    Year         Genre Publisher  \\\n",
       "0     1                Wii Sports      Wii  2006.0        Sports  Nintendo   \n",
       "1     2         Super Mario Bros.      NES  1985.0      Platform  Nintendo   \n",
       "2     3            Mario Kart Wii      Wii  2008.0        Racing  Nintendo   \n",
       "3     4         Wii Sports Resort      Wii  2009.0        Sports  Nintendo   \n",
       "4     5  Pokemon Red/Pokemon Blue       GB  1996.0  Role-Playing  Nintendo   \n",
       "\n",
       "   NA_Sales  EU_Sales  JP_Sales  Other_Sales  Global_Sales  \n",
       "0     41.49     29.02      3.77         8.46         82.74  \n",
       "1     29.08      3.58      6.81         0.77         40.24  \n",
       "2     15.85     12.88      3.79         3.31         35.82  \n",
       "3     15.75     11.01      3.28         2.96         33.00  \n",
       "4     11.27      8.89     10.22         1.00         31.37  "
      ]
     },
     "execution_count": 12,
     "metadata": {},
     "output_type": "execute_result"
    }
   ],
   "source": [
    "games = pd.read_csv('vgsales.csv')\n",
    "games.head()"
   ]
  },
  {
   "cell_type": "markdown",
   "id": "452dc588",
   "metadata": {
    "deletable": false,
    "editable": false,
    "nbgrader": {
     "cell_type": "markdown",
     "checksum": "f607016330e101a68e48abb7c707f20d",
     "grade": false,
     "grade_id": "cell-83c932189e7038a7",
     "locked": true,
     "schema_version": 3,
     "solution": false,
     "task": false
    }
   },
   "source": [
    "\n",
    " ----\n",
    " \n",
    "a.) **(3 points)** Find answers to the following questions about the dataframe.\n",
    "- How many genres are there? Store the answer in a variable called _num_genres_. \n",
    "- How many publishers are there? Store the answer in a variable _num_publishers_.\n",
    "- How many platforms are there? Store the answer in a variable _num_platforms_.\n",
    "\n",
    "----\n"
   ]
  },
  {
   "cell_type": "code",
   "execution_count": 13,
   "id": "e1d49973",
   "metadata": {
    "deletable": false,
    "nbgrader": {
     "cell_type": "code",
     "checksum": "a3d5c64cfd1f2efeae1d050adbc9bd83",
     "grade": false,
     "grade_id": "cell-a895136977a65809",
     "locked": false,
     "schema_version": 3,
     "solution": true,
     "task": false
    }
   },
   "outputs": [
    {
     "name": "stdout",
     "output_type": "stream",
     "text": [
      "12 578 31\n"
     ]
    }
   ],
   "source": [
    "num_genres = games['Genre'].nunique()\n",
    "num_publishers = games['Publisher'].nunique()\n",
    "num_platforms = games['Platform'].nunique()\n",
    "print(num_genres, num_publishers, num_platforms)"
   ]
  },
  {
   "cell_type": "code",
   "execution_count": null,
   "id": "c19288af",
   "metadata": {
    "deletable": false,
    "editable": false,
    "nbgrader": {
     "cell_type": "code",
     "checksum": "6fa9030818d36a419032cdb29c0a120f",
     "grade": true,
     "grade_id": "cell-9bd4d3c9745b9b6e",
     "locked": true,
     "points": 3,
     "schema_version": 3,
     "solution": false,
     "task": false
    }
   },
   "outputs": [],
   "source": []
  },
  {
   "cell_type": "markdown",
   "id": "bdc7785f",
   "metadata": {
    "deletable": false,
    "editable": false,
    "nbgrader": {
     "cell_type": "markdown",
     "checksum": "a608f710b3ef5f85579257b54f66ac8b",
     "grade": false,
     "grade_id": "cell-92502e03ec31ec1a",
     "locked": true,
     "schema_version": 3,
     "solution": false,
     "task": false
    }
   },
   "source": [
    "----\n",
    "\n",
    "b.) **(4 points)** Create a box-and-whisker plot of Global Sales by genre.\n",
    "\n",
    "----"
   ]
  },
  {
   "cell_type": "code",
   "execution_count": 14,
   "id": "e21b3947",
   "metadata": {
    "deletable": false,
    "nbgrader": {
     "cell_type": "code",
     "checksum": "fa005e2d90f6ec72ad9490b919bd38cc",
     "grade": true,
     "grade_id": "cell-ad05bdfe1f74fd5a",
     "locked": false,
     "points": 4,
     "schema_version": 3,
     "solution": true,
     "task": false
    }
   },
   "outputs": [
    {
     "data": {
      "image/png": "[encoded data removed]",
      "text/plain": [
       "<Figure size 1500x500 with 1 Axes>"
      ]
     },
     "metadata": {},
     "output_type": "display_data"
    }
   ],
   "source": [
    "games.boxplot(column = ['Global_Sales'], by = 'Genre', figsize = (15,5));"
   ]
  },
  {
   "cell_type": "markdown",
   "id": "ed539631",
   "metadata": {
    "deletable": false,
    "editable": false,
    "nbgrader": {
     "cell_type": "markdown",
     "checksum": "baaaf9661d537b7392ca7a4396f2446a",
     "grade": false,
     "grade_id": "cell-6753222df59f8cc9",
     "locked": true,
     "schema_version": 3,
     "solution": false,
     "task": false
    }
   },
   "source": [
    "----\n",
    "\n",
    "c.) **(10 points)** Find the upper outer fence thresholds for each genre (assuming hinges at the 25th and 75th percentile). Store them in a dictionary {genre:upper outer fence} called ufence.\n",
    "\n",
    "---"
   ]
  },
  {
   "cell_type": "code",
   "execution_count": 15,
   "id": "675ad765",
   "metadata": {
    "deletable": false,
    "nbgrader": {
     "cell_type": "code",
     "checksum": "e122bd72e575b38a74916eaa733b6566",
     "grade": false,
     "grade_id": "cell-efe4710776f50850",
     "locked": false,
     "schema_version": 3,
     "solution": true,
     "task": false
    }
   },
   "outputs": [
    {
     "name": "stdout",
     "output_type": "stream",
     "text": [
      "{'Sports': 1.9700000000000002, 'Platform': 2.89, 'Racing': 1.9100000000000001, 'Role-Playing': 1.88, 'Puzzle': 1.1099999999999999, 'Misc': 1.4599999999999997, 'Shooter': 2.6700000000000004, 'Simulation': 1.5299999999999998, 'Action': 1.79, 'Fighting': 1.9600000000000002, 'Adventure': 0.5800000000000001, 'Strategy': 0.9600000000000001}\n"
     ]
    }
   ],
   "source": [
    "unique_genres = games['Genre'].unique()\n",
    "ufence = {}\n",
    "for genre in unique_genres:\n",
    "    q1 = np.percentile(games[games['Genre'] == genre]['Global_Sales'], 25)\n",
    "    q3 = np.percentile(games[games['Genre'] == genre]['Global_Sales'], 75)\n",
    "    step = q3 - q1\n",
    "    upper_outer_fence = step*3 + q3\n",
    "    ufence[genre] = upper_outer_fence\n",
    "\n",
    "print(ufence)"
   ]
  },
  {
   "cell_type": "code",
   "execution_count": null,
   "id": "6291c7a4",
   "metadata": {
    "deletable": false,
    "editable": false,
    "nbgrader": {
     "cell_type": "code",
     "checksum": "29125bb36c0d7e668e397cb87c8a2a19",
     "grade": true,
     "grade_id": "cell-b19900eb856a4a17",
     "locked": true,
     "points": 10,
     "schema_version": 3,
     "solution": false,
     "task": false
    }
   },
   "outputs": [],
   "source": []
  },
  {
   "cell_type": "markdown",
   "id": "6ab2f434",
   "metadata": {
    "deletable": false,
    "editable": false,
    "nbgrader": {
     "cell_type": "markdown",
     "checksum": "3d27d4d971144384421af34821af2999",
     "grade": false,
     "grade_id": "cell-4df6d7939b1cd6de",
     "locked": true,
     "schema_version": 3,
     "solution": false,
     "task": false
    }
   },
   "source": [
    "----\n",
    "\n",
    "d.) **(4 points)** Plot the unnormalised histogram with 20 bins for all sports games whose Global sales which are beyond the outer fence.\n",
    "\n",
    "\n",
    "----\n"
   ]
  },
  {
   "cell_type": "code",
   "execution_count": 16,
   "id": "7eee0275",
   "metadata": {
    "deletable": false,
    "nbgrader": {
     "cell_type": "code",
     "checksum": "66d492e4383d5d81a83e6e03977203a2",
     "grade": true,
     "grade_id": "cell-0ec4c9ec902d4aba",
     "locked": false,
     "points": 4,
     "schema_version": 3,
     "solution": true,
     "task": false
    }
   },
   "outputs": [
    {
     "data": {
      "image/png": "[encoded data removed]",
      "text/plain": [
       "<Figure size 640x480 with 1 Axes>"
      ]
     },
     "metadata": {},
     "output_type": "display_data"
    }
   ],
   "source": [
    "sports_games = games[games['Genre'] == 'Sports']\n",
    "sports_games_outliers = sports_games[sports_games['Global_Sales'] > ufence['Sports']]\n",
    "plt.hist(sports_games_outliers['Global_Sales'], bins = 20)\n",
    "plt.title('Histogram for Global Sales of Sports Games beyond the outer fence')\n",
    "plt.ylabel('number of sports games')\n",
    "plt.xlabel('global sales in millions');"
   ]
  },
  {
   "cell_type": "markdown",
   "id": "48b238e3",
   "metadata": {
    "deletable": false,
    "editable": false,
    "nbgrader": {
     "cell_type": "markdown",
     "checksum": "4775bdf0337a407b70efb85c01db70ee",
     "grade": false,
     "grade_id": "cell-db7439f2e21a666d",
     "locked": true,
     "schema_version": 3,
     "solution": false,
     "task": false
    }
   },
   "source": [
    "---- \n",
    "e.) **(4 points)** If these are successful games - what can you say about the maximum versus the typical successful game? What are the problems with using the average (overall or just the succesful games).\n",
    "\n",
    "---"
   ]
  },
  {
   "cell_type": "markdown",
   "id": "52a8c0fb",
   "metadata": {
    "deletable": false,
    "nbgrader": {
     "cell_type": "markdown",
     "checksum": "56bab1e0c38fcdff1867915c5a0513cd",
     "grade": true,
     "grade_id": "cell-73becb7b6ff394e2",
     "locked": false,
     "points": 4,
     "schema_version": 3,
     "solution": true,
     "task": false
    }
   },
   "source": [
    "As we can see above the typical successful game (where global sales is greater than the upper outer fence) earns between 0-5 million globally. Where as the maximum successful game earns over 80 million (Wii Sports), this shows just how large the scale is for successful games. Therefore if we were to use the average global sales for games then the few very successful games would positively skew the data and the value we would receive for the average would be unreasonable for the typical game."
   ]
  },
  {
   "cell_type": "markdown",
   "id": "b0d417e0",
   "metadata": {
    "deletable": false,
    "editable": false,
    "nbgrader": {
     "cell_type": "markdown",
     "checksum": "1927140c5f499712696f3c177468a812",
     "grade": false,
     "grade_id": "cell-e4f6208a960302e8",
     "locked": true,
     "schema_version": 3,
     "solution": false,
     "task": false
    }
   },
   "source": [
    "----\n",
    "\n",
    "f.) **(10 points)** Create a plot of the difference between North American Sales and EU Sales with a line for the following platforms per year.\n",
    "- 2600, NES, SNES, GEN, N64, GC, WII, PS, PS2, PS3, PS4, X360, XB, XOne\n",
    "\n",
    "----\n"
   ]
  },
  {
   "cell_type": "code",
   "execution_count": null,
   "id": "49e91a31-eb4b-477f-bbcb-4537865a68dc",
   "metadata": {},
   "outputs": [],
   "source": []
  },
  {
   "cell_type": "code",
   "execution_count": 18,
   "id": "aa5921ed",
   "metadata": {
    "deletable": false,
    "nbgrader": {
     "cell_type": "code",
     "checksum": "4ad33b0148c65d6ae468882874b8af43",
     "grade": true,
     "grade_id": "cell-d2695e9a2a0dee9d",
     "locked": false,
     "points": 10,
     "schema_version": 3,
     "solution": true,
     "task": false
    }
   },
   "outputs": [
    {
     "data": {
      "image/png": "[encoded data removed]",
      "text/plain": [
       "<Figure size 1000x500 with 1 Axes>"
      ]
     },
     "metadata": {},
     "output_type": "display_data"
    }
   ],
   "source": [
    "platforms = ['2600','NES','SNES', 'GEN', 'N64', 'GC', 'Wii', 'PS', 'PS2', 'PS3', 'PS4', 'X360', 'XB', 'XOne']\n",
    "plt.figure(figsize = (10,5))\n",
    "plt.title('Difference in NA and EU Sales per Year for Selected Platforms')\n",
    "plt.xlabel('Year')\n",
    "plt.ylabel('Difference in Sales (NA Sales - EU Sales)')\n",
    "plt.grid()\n",
    "for platform in platforms:\n",
    "\n",
    "    platform_df = games[games['Platform'] == platform][['Year','NA_Sales','EU_Sales']].groupby('Year').sum()\n",
    "    plt.plot(platform_df.index, platform_df['NA_Sales'] - platform_df['EU_Sales'], label = platform)\n",
    "    plt.legend(loc = 'upper left', bbox_to_anchor = (1,1))\n"
   ]
  },
  {
   "cell_type": "markdown",
   "id": "108cae81",
   "metadata": {
    "deletable": false,
    "editable": false,
    "nbgrader": {
     "cell_type": "markdown",
     "checksum": "f06cbf68a1751ac3334f53f1ef742220",
     "grade": false,
     "grade_id": "cell-aa666be08e135ea1",
     "locked": true,
     "schema_version": 3,
     "solution": false,
     "task": false
    }
   },
   "source": [
    "g.) **(2 points)** Qualitatively describe what you see (a few sentences). "
   ]
  },
  {
   "cell_type": "markdown",
   "id": "3ab4c5aa",
   "metadata": {
    "deletable": false,
    "nbgrader": {
     "cell_type": "markdown",
     "checksum": "b8872d5f07cefb0c7a0705cbf24345e4",
     "grade": true,
     "grade_id": "cell-e22a4ce501bb41fd",
     "locked": false,
     "points": 2,
     "schema_version": 3,
     "solution": true,
     "task": false
    }
   },
   "source": [
    "Here we have plotted the difference in sales between NA and EU for some selected consoles. A positive difference here shows that the console received more sales in NA than EU, and the opposite for a negative difference. The lines show how this difference changes per year and it is good at visualising when the difference in sales for each console was at its peak. Furthermore it is easy to see when consoles were intoduced and eventually taken off the market. "
   ]
  },
  {
   "cell_type": "markdown",
   "id": "25818f02",
   "metadata": {
    "deletable": false,
    "editable": false,
    "nbgrader": {
     "cell_type": "markdown",
     "checksum": "0f9cc0042de810fb3ec9e5a3572a3a93",
     "grade": false,
     "grade_id": "cell-60c6bfb70069e17f",
     "locked": true,
     "schema_version": 3,
     "solution": false,
     "task": false
    }
   },
   "source": [
    "h.) **(3 points)** Answer which system:\n",
    "\n",
    "    i.) was more popular in North America (give the one which \n",
    "        is largest)\n",
    "    ii.) was more popular in the EU (give the one which is largest)\n",
    "    iii.) had the smallest largest difference"
   ]
  },
  {
   "cell_type": "markdown",
   "id": "ba4d82ff",
   "metadata": {
    "deletable": false,
    "nbgrader": {
     "cell_type": "markdown",
     "checksum": "d3155a93cc6ae6311c6de93f8706464d",
     "grade": true,
     "grade_id": "cell-41f0dc2b973ece4f",
     "locked": false,
     "points": 3,
     "schema_version": 3,
     "solution": true,
     "task": false
    }
   },
   "source": [
    "i) X360\n",
    "ii) PS4\n",
    "iii) GEN"
   ]
  }
 ],
 "metadata": {
  "kernelspec": {
   "display_name": "Python 3 (ipykernel)",
   "language": "python",
   "name": "python3"
  },
  "language_info": {
   "codemirror_mode": {
    "name": "ipython",
    "version": 3
   },
   "file_extension": ".py",
   "mimetype": "text/x-python",
   "name": "python",
   "nbconvert_exporter": "python",
   "pygments_lexer": "ipython3",
   "version": "3.9.18"
  }
 },
 "nbformat": 4,
 "nbformat_minor": 5
}
